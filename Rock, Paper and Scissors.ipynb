{
 "cells": [
  {
   "cell_type": "code",
   "execution_count": 1,
   "metadata": {},
   "outputs": [
    {
     "name": "stdout",
     "output_type": "stream",
     "text": [
      "Pick any one of these 'Rock, Paper or  Scissors' - rock\n",
      "Tie!\n",
      "Pick any one of these 'Rock, Paper or  Scissors' - rock\n",
      "You lose! Paper covers Rock\n",
      "Pick any one of these 'Rock, Paper or  Scissors' - end\n",
      "Final Scores:\n",
      "Bot:1\n",
      "Player:0\n",
      "Tie:1\n"
     ]
    }
   ],
   "source": [
    "import random\n",
    "tie = 0\n",
    "bot_score = 0\n",
    "player_score = 0\n",
    "\n",
    "while True:\n",
    "    options = [\"Rock\", \"Paper\", \"Scissors\"]\n",
    "    bot = random.choice(options)\n",
    "    \n",
    "    ## Taking Player's input.\n",
    "    \n",
    "    player = input(\"Pick any one of these 'Rock, Paper or  Scissors' - \").capitalize()\n",
    "  \n",
    "    \n",
    "    ## Condition - 1\n",
    "    \n",
    "    if player == bot:\n",
    "        print(\"Tie!\")\n",
    "        tie +=1\n",
    "        \n",
    "    ## Condition - 2    \n",
    "        \n",
    "    elif player == \"Rock\":\n",
    "        if bot == \"Paper\":\n",
    "            print(\"You lose!\", bot, \"covers\", player)\n",
    "            bot_score +=1\n",
    "        else:\n",
    "            print(\"You win!\", player, \"smashes\", bot)\n",
    "            player_score +=1\n",
    "            \n",
    "     ## Condition - 3       \n",
    "            \n",
    "    elif player == \"Paper\":\n",
    "        if bot == \"Scissors\":\n",
    "            print(\"You lose!\", bot, \"cut\", player)\n",
    "            bot_score +=1\n",
    "        else:\n",
    "            print(\"You win!\", player, \"covers\", bot)\n",
    "            player_score +=1\n",
    "            \n",
    "     ## Condition - 4\n",
    "            \n",
    "    elif player == \"Scissors\":\n",
    "        if bot == \"Rock\":\n",
    "            print(\"You lose...\", bot, \"smashes\", player)\n",
    "            bot_score +=1\n",
    "        else:\n",
    "            print(\"You win!\", player, \"cut\", bot)\n",
    "            player_score +=1\n",
    "            \n",
    "     ## To Get the final score.\n",
    "            \n",
    "    elif player=='End':\n",
    "        print(\"Final Scores:\")\n",
    "        print(f\"Bot:{bot_score}\")\n",
    "        print(f\"Player:{player_score}\")\n",
    "        print(f\"Tie:{tie}\")\n",
    "        break"
   ]
  },
  {
   "cell_type": "code",
   "execution_count": null,
   "metadata": {},
   "outputs": [],
   "source": []
  },
  {
   "cell_type": "code",
   "execution_count": null,
   "metadata": {},
   "outputs": [],
   "source": []
  }
 ],
 "metadata": {
  "kernelspec": {
   "display_name": "Python 3",
   "language": "python",
   "name": "python3"
  },
  "language_info": {
   "codemirror_mode": {
    "name": "ipython",
    "version": 3
   },
   "file_extension": ".py",
   "mimetype": "text/x-python",
   "name": "python",
   "nbconvert_exporter": "python",
   "pygments_lexer": "ipython3",
   "version": "3.8.3"
  }
 },
 "nbformat": 4,
 "nbformat_minor": 4
}
